{
 "cells": [
  {
   "cell_type": "markdown",
   "metadata": {},
   "source": [
    "## Pandas Indexing and Subsetting\n",
    "\n",
    "This notebooks focuses on understanding indexing and subsetting in Pandas dataframes.\n",
    "\n",
    "1. How to define a dataframe using a dictionary.\n",
    "2. How to set index and use access attributes of a dataframe.\n",
    "3. How to access specific and slices of rows and columns of a dataframe."
   ]
  },
  {
   "cell_type": "code",
   "execution_count": 1,
   "metadata": {},
   "outputs": [],
   "source": [
    "import numpy as np\n",
    "import pandas as pd\n",
    "import random\n",
    "import string"
   ]
  },
  {
   "cell_type": "code",
   "execution_count": 2,
   "metadata": {},
   "outputs": [
    {
     "name": "stdout",
     "output_type": "stream",
     "text": [
      "{'id': ['XHDTU', 'YVA1X', '75UFK', 'VDQHL', '9NYPU', 'MZNV5', '4MN5P', 'DN5OJ', 'RPQAE', 'NXSUO', 'HST7M', '3U34O', 'IEHNX', '776U2', 'QL6UT', 'P0DXA', 'CQ42I', '0NIXT', '55BI0', '9Y6QJ', 'TSFFN', '54M8L', 'ILD95', '1X3OM', '6J1ZW', 'W7B34', 'V4FZ6', 'IV0CP', '6QXX6', '6HZH9'], 'roll': array([ 1,  2,  3,  4,  5,  6,  7,  8,  9, 10, 11, 12, 13, 14, 15, 16, 17,\n",
      "       18, 19, 20, 21, 22, 23, 24, 25, 26, 27, 28, 29, 30]), 'math_scores': array([81,  5, 23, 76, 29, 23, 63, 75, 93, 71, 48, 74, 86, 93, 44, 62, 27,\n",
      "       12, 46, 33, 19,  9, 33, 16, 78, 70, 64,  6, 72, 57], dtype=int32), 'physics_scores': array([90,  2,  3, 91, 58, 25, 45, 14, 41, 99, 11, 72, 12, 10, 42, 77, 36,\n",
      "       24,  7, 81, 95, 29,  2, 26, 32, 71,  9, 19, 21, 93], dtype=int32), 'chemistry_scores': array([77, 74, 81, 41, 33, 85, 76, 50, 78, 33, 90, 36, 15, 25,  7, 68, 77,\n",
      "       65, 63, 31, 99,  2, 26, 25, 70, 70, 61, 33, 21, 13], dtype=int32)}\n"
     ]
    }
   ],
   "source": [
    "##create a dictionary that stores \n",
    "##students' roll number, math, physics & chem scores.\n",
    "\n",
    "scores_dict = {\n",
    "    'id': [''.join(random.choices(\n",
    "        string.ascii_uppercase + string.digits, k=5)\n",
    "                 ) for _ in range(30)],\n",
    "    'roll': np.arange(30) + 1,\n",
    "    'math_scores': np.random.randint(100, size=(30)),\n",
    "    'physics_scores': np.random.randint(100, size=(30)),\n",
    "    'chemistry_scores': np.random.randint(100, size=(30))\n",
    "}\n",
    "\n",
    "print(scores_dict)"
   ]
  },
  {
   "cell_type": "code",
   "execution_count": 3,
   "metadata": {},
   "outputs": [
    {
     "data": {
      "text/html": [
       "<div>\n",
       "<style scoped>\n",
       "    .dataframe tbody tr th:only-of-type {\n",
       "        vertical-align: middle;\n",
       "    }\n",
       "\n",
       "    .dataframe tbody tr th {\n",
       "        vertical-align: top;\n",
       "    }\n",
       "\n",
       "    .dataframe thead th {\n",
       "        text-align: right;\n",
       "    }\n",
       "</style>\n",
       "<table border=\"1\" class=\"dataframe\">\n",
       "  <thead>\n",
       "    <tr style=\"text-align: right;\">\n",
       "      <th></th>\n",
       "      <th>id</th>\n",
       "      <th>roll</th>\n",
       "      <th>math_scores</th>\n",
       "      <th>physics_scores</th>\n",
       "      <th>chemistry_scores</th>\n",
       "    </tr>\n",
       "  </thead>\n",
       "  <tbody>\n",
       "    <tr>\n",
       "      <th>0</th>\n",
       "      <td>XHDTU</td>\n",
       "      <td>1</td>\n",
       "      <td>81</td>\n",
       "      <td>90</td>\n",
       "      <td>77</td>\n",
       "    </tr>\n",
       "    <tr>\n",
       "      <th>1</th>\n",
       "      <td>YVA1X</td>\n",
       "      <td>2</td>\n",
       "      <td>5</td>\n",
       "      <td>2</td>\n",
       "      <td>74</td>\n",
       "    </tr>\n",
       "    <tr>\n",
       "      <th>2</th>\n",
       "      <td>75UFK</td>\n",
       "      <td>3</td>\n",
       "      <td>23</td>\n",
       "      <td>3</td>\n",
       "      <td>81</td>\n",
       "    </tr>\n",
       "    <tr>\n",
       "      <th>3</th>\n",
       "      <td>VDQHL</td>\n",
       "      <td>4</td>\n",
       "      <td>76</td>\n",
       "      <td>91</td>\n",
       "      <td>41</td>\n",
       "    </tr>\n",
       "    <tr>\n",
       "      <th>4</th>\n",
       "      <td>9NYPU</td>\n",
       "      <td>5</td>\n",
       "      <td>29</td>\n",
       "      <td>58</td>\n",
       "      <td>33</td>\n",
       "    </tr>\n",
       "  </tbody>\n",
       "</table>\n",
       "</div>"
      ],
      "text/plain": [
       "      id  roll  math_scores  physics_scores  chemistry_scores\n",
       "0  XHDTU     1           81              90                77\n",
       "1  YVA1X     2            5               2                74\n",
       "2  75UFK     3           23               3                81\n",
       "3  VDQHL     4           76              91                41\n",
       "4  9NYPU     5           29              58                33"
      ]
     },
     "execution_count": 3,
     "metadata": {},
     "output_type": "execute_result"
    }
   ],
   "source": [
    "##convert the scores_dict to a pandas dataframe\n",
    "\n",
    "df = pd.DataFrame(scores_dict)\n",
    "df.head()"
   ]
  },
  {
   "cell_type": "code",
   "execution_count": 4,
   "metadata": {},
   "outputs": [
    {
     "name": "stdout",
     "output_type": "stream",
     "text": [
      "<class 'pandas.core.frame.DataFrame'>\n",
      "Index: 30 entries, XHDTU to 6HZH9\n",
      "Data columns (total 4 columns):\n",
      " #   Column            Non-Null Count  Dtype\n",
      "---  ------            --------------  -----\n",
      " 0   roll              30 non-null     int64\n",
      " 1   math_scores       30 non-null     int32\n",
      " 2   physics_scores    30 non-null     int32\n",
      " 3   chemistry_scores  30 non-null     int32\n",
      "dtypes: int32(3), int64(1)\n",
      "memory usage: 840.0+ bytes\n"
     ]
    }
   ],
   "source": [
    "##make id column the index of the dataframe\n",
    "\n",
    "df = df.set_index('id')\n",
    "df.info()"
   ]
  },
  {
   "cell_type": "code",
   "execution_count": 5,
   "metadata": {},
   "outputs": [
    {
     "data": {
      "text/plain": [
       "id\n",
       "XHDTU    81\n",
       "YVA1X     5\n",
       "75UFK    23\n",
       "VDQHL    76\n",
       "9NYPU    29\n",
       "MZNV5    23\n",
       "4MN5P    63\n",
       "DN5OJ    75\n",
       "RPQAE    93\n",
       "NXSUO    71\n",
       "HST7M    48\n",
       "3U34O    74\n",
       "IEHNX    86\n",
       "776U2    93\n",
       "QL6UT    44\n",
       "P0DXA    62\n",
       "CQ42I    27\n",
       "0NIXT    12\n",
       "55BI0    46\n",
       "9Y6QJ    33\n",
       "TSFFN    19\n",
       "54M8L     9\n",
       "ILD95    33\n",
       "1X3OM    16\n",
       "6J1ZW    78\n",
       "W7B34    70\n",
       "V4FZ6    64\n",
       "IV0CP     6\n",
       "6QXX6    72\n",
       "6HZH9    57\n",
       "Name: math_scores, dtype: int32"
      ]
     },
     "execution_count": 5,
     "metadata": {},
     "output_type": "execute_result"
    }
   ],
   "source": [
    "##access individual columns\n",
    "df['math_scores']"
   ]
  },
  {
   "cell_type": "code",
   "execution_count": 8,
   "metadata": {},
   "outputs": [
    {
     "data": {
      "text/plain": [
       "array([ 1, 81, 90, 77])"
      ]
     },
     "execution_count": 8,
     "metadata": {},
     "output_type": "execute_result"
    }
   ],
   "source": [
    "##dataframe as a 2d array\n",
    "df.values[0]"
   ]
  },
  {
   "cell_type": "markdown",
   "metadata": {},
   "source": [
    "## Indexers in Pandas - iloc and loc"
   ]
  },
  {
   "cell_type": "code",
   "execution_count": 9,
   "metadata": {},
   "outputs": [
    {
     "data": {
      "text/plain": [
       "roll                11\n",
       "math_scores         48\n",
       "physics_scores      11\n",
       "chemistry_scores    90\n",
       "Name: HST7M, dtype: int64"
      ]
     },
     "execution_count": 9,
     "metadata": {},
     "output_type": "execute_result"
    }
   ],
   "source": [
    "##access the 10th row\n",
    "df.iloc[10]"
   ]
  },
  {
   "cell_type": "code",
   "execution_count": 10,
   "metadata": {},
   "outputs": [
    {
     "data": {
      "text/plain": [
       "np.int32(48)"
      ]
     },
     "execution_count": 10,
     "metadata": {},
     "output_type": "execute_result"
    }
   ],
   "source": [
    "##access only math scores for the 10th row\n",
    "df.iloc[10, 1]"
   ]
  },
  {
   "cell_type": "code",
   "execution_count": 11,
   "metadata": {},
   "outputs": [
    {
     "data": {
      "text/html": [
       "<div>\n",
       "<style scoped>\n",
       "    .dataframe tbody tr th:only-of-type {\n",
       "        vertical-align: middle;\n",
       "    }\n",
       "\n",
       "    .dataframe tbody tr th {\n",
       "        vertical-align: top;\n",
       "    }\n",
       "\n",
       "    .dataframe thead th {\n",
       "        text-align: right;\n",
       "    }\n",
       "</style>\n",
       "<table border=\"1\" class=\"dataframe\">\n",
       "  <thead>\n",
       "    <tr style=\"text-align: right;\">\n",
       "      <th></th>\n",
       "      <th>roll</th>\n",
       "      <th>math_scores</th>\n",
       "    </tr>\n",
       "    <tr>\n",
       "      <th>id</th>\n",
       "      <th></th>\n",
       "      <th></th>\n",
       "    </tr>\n",
       "  </thead>\n",
       "  <tbody>\n",
       "    <tr>\n",
       "      <th>XHDTU</th>\n",
       "      <td>1</td>\n",
       "      <td>81</td>\n",
       "    </tr>\n",
       "    <tr>\n",
       "      <th>YVA1X</th>\n",
       "      <td>2</td>\n",
       "      <td>5</td>\n",
       "    </tr>\n",
       "    <tr>\n",
       "      <th>75UFK</th>\n",
       "      <td>3</td>\n",
       "      <td>23</td>\n",
       "    </tr>\n",
       "    <tr>\n",
       "      <th>VDQHL</th>\n",
       "      <td>4</td>\n",
       "      <td>76</td>\n",
       "    </tr>\n",
       "    <tr>\n",
       "      <th>9NYPU</th>\n",
       "      <td>5</td>\n",
       "      <td>29</td>\n",
       "    </tr>\n",
       "  </tbody>\n",
       "</table>\n",
       "</div>"
      ],
      "text/plain": [
       "       roll  math_scores\n",
       "id                      \n",
       "XHDTU     1           81\n",
       "YVA1X     2            5\n",
       "75UFK     3           23\n",
       "VDQHL     4           76\n",
       "9NYPU     5           29"
      ]
     },
     "execution_count": 11,
     "metadata": {},
     "output_type": "execute_result"
    }
   ],
   "source": [
    "##access the first 5 rows of the first 2 columns\n",
    "df.iloc[:5, :2]"
   ]
  },
  {
   "cell_type": "code",
   "execution_count": 15,
   "metadata": {},
   "outputs": [
    {
     "data": {
      "text/plain": [
       "id\n",
       "YVA1X     2\n",
       "75UFK     3\n",
       "VDQHL    91\n",
       "9NYPU    58\n",
       "MZNV5    25\n",
       "4MN5P    45\n",
       "DN5OJ    14\n",
       "RPQAE    41\n",
       "NXSUO    99\n",
       "HST7M    11\n",
       "3U34O    72\n",
       "IEHNX    12\n",
       "776U2    10\n",
       "QL6UT    42\n",
       "P0DXA    77\n",
       "CQ42I    36\n",
       "0NIXT    24\n",
       "55BI0     7\n",
       "9Y6QJ    81\n",
       "TSFFN    95\n",
       "54M8L    29\n",
       "ILD95     2\n",
       "1X3OM    26\n",
       "6J1ZW    32\n",
       "W7B34    71\n",
       "V4FZ6     9\n",
       "IV0CP    19\n",
       "6QXX6    21\n",
       "6HZH9    93\n",
       "Name: physics_scores, dtype: int32"
      ]
     },
     "execution_count": 15,
     "metadata": {},
     "output_type": "execute_result"
    }
   ],
   "source": [
    "##access values using labels\n",
    "df.loc['YVA1X':, 'physics_scores']"
   ]
  }
 ],
 "metadata": {
  "kernelspec": {
   "display_name": "base",
   "language": "python",
   "name": "python3"
  },
  "language_info": {
   "codemirror_mode": {
    "name": "ipython",
    "version": 3
   },
   "file_extension": ".py",
   "mimetype": "text/x-python",
   "name": "python",
   "nbconvert_exporter": "python",
   "pygments_lexer": "ipython3",
   "version": "3.13.5"
  }
 },
 "nbformat": 4,
 "nbformat_minor": 4
}
